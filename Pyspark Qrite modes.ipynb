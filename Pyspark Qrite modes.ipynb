# Initialize Spark session
spark = SparkSession.builder.appName("WriteModesExample").getOrCreate()
# Sample data
data = [("John", 28), ("Doe", 26)]
columns = ["Name", "Age"]
# Create DataFrame
df = spark.createDataFrame(data, columns)
# Path to output directory
output_path = "path/to/output/directory"
# Append mode example
df.write.mode("append").csv(output_path)
# Overwrite mode example
df.write.mode("overwrite").csv(output_path)
# ErrorIfExists mode example
try:
    df.write.mode("errorifexists").csv(output_path)
except Exception as e:
    print(f"Error occurred: {e}")
# Ignore mode example
df.write.mode("ignore").csv(output_path)
